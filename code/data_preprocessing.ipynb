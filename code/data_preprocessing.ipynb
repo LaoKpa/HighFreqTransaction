{
 "cells": [
  {
   "cell_type": "code",
   "execution_count": 3,
   "metadata": {
    "collapsed": true
   },
   "outputs": [],
   "source": [
    "import numpy as np\n",
    "import pandas as pd"
   ]
  },
  {
   "cell_type": "code",
   "execution_count": 5,
   "metadata": {
    "collapsed": false
   },
   "outputs": [],
   "source": [
    "data1 = pd.read_csv(\"../data/AAPL_05222012_0930_1300_LOB_2.csv\")"
   ]
  },
  {
   "cell_type": "code",
   "execution_count": 11,
   "metadata": {
    "collapsed": false
   },
   "outputs": [
    {
     "data": {
      "text/plain": [
       "pandas.core.series.Series"
      ]
     },
     "execution_count": 11,
     "metadata": {},
     "output_type": "execute_result"
    }
   ],
   "source": [
    "# column name\n",
    "col1 = list(data1.columns.values)[2:62]\n",
    "len(col1)\n",
    "col2 = [i[16:] for i in col1]\n",
    "new_names = list(data1.columns.values)[0:2]+ [i[:-19] for i in col2]\n",
    "data1.columns = new_names"
   ]
  },
  {
   "cell_type": "code",
   "execution_count": 38,
   "metadata": {
    "collapsed": false
   },
   "outputs": [
    {
     "ename": "SyntaxError",
     "evalue": "invalid syntax (<ipython-input-38-6e681da5f86e>, line 2)",
     "output_type": "error",
     "traceback": [
      "\u001b[0;36m  File \u001b[0;32m\"<ipython-input-38-6e681da5f86e>\"\u001b[0;36m, line \u001b[0;32m2\u001b[0m\n\u001b[0;31m    level = 1:10\u001b[0m\n\u001b[0m             ^\u001b[0m\n\u001b[0;31mSyntaxError\u001b[0m\u001b[0;31m:\u001b[0m invalid syntax\n"
     ]
    }
   ],
   "source": [
    "# feature 2\n",
    "level = range(10)+1\n",
    "bid_P = \"BID_PRICE\"\n",
    "ask_P = \"ASK_PRICE\"\n",
    "ask_V = \"BID_SIZE\"\n",
    "bid_V = \"ASK_SIZE\""
   ]
  },
  {
   "cell_type": "code",
   "execution_count": 39,
   "metadata": {
    "collapsed": false
   },
   "outputs": [
    {
     "data": {
      "text/plain": [
       "array(['Index', 'Time', 'BID_PRICE1', 'BID_UPDATE_TIME1', 'BID_SIZE1',\n",
       "       'ASK_PRICE1', 'ASK_UPDATE_TIME1', 'ASK_SIZE1', 'BID_PRICE2',\n",
       "       'BID_UPDATE_TIME2', 'BID_SIZE2', 'ASK_PRICE2', 'ASK_UPDATE_TIME2',\n",
       "       'ASK_SIZE2', 'BID_PRICE3', 'BID_UPDATE_TIME3', 'BID_SIZE3',\n",
       "       'ASK_PRICE3', 'ASK_UPDATE_TIME3', 'ASK_SIZE3', 'BID_PRICE4',\n",
       "       'BID_UPDATE_TIME4', 'BID_SIZE4', 'ASK_PRICE4', 'ASK_UPDATE_TIME4',\n",
       "       'ASK_SIZE4', 'BID_PRICE5', 'BID_UPDATE_TIME5', 'BID_SIZE5',\n",
       "       'ASK_PRICE5', 'ASK_UPDATE_TIME5', 'ASK_SIZE5', 'BID_PRICE6',\n",
       "       'BID_UPDATE_TIME6', 'BID_SIZE6', 'ASK_PRICE6', 'ASK_UPDATE_TIME6',\n",
       "       'ASK_SIZE6', 'BID_PRICE7', 'BID_UPDATE_TIME7', 'BID_SIZE7',\n",
       "       'ASK_PRICE7', 'ASK_UPDATE_TIME7', 'ASK_SIZE7', 'BID_PRICE8',\n",
       "       'BID_UPDATE_TIME8', 'BID_SIZE8', 'ASK_PRICE8', 'ASK_UPDATE_TIME8',\n",
       "       'ASK_SIZE8', 'BID_PRICE9', 'BID_UPDATE_TIME9', 'BID_SIZE9',\n",
       "       'ASK_PRICE9', 'ASK_UPDATE_TIME9', 'ASK_SIZE9', 'BID_PRICE10',\n",
       "       'BID_UPDATE_TIME10', 'BID_SIZE10', 'ASK_PRICE10',\n",
       "       'ASK_UPDATE_TIME10', 'ASK_SIZE10'], dtype=object)"
      ]
     },
     "execution_count": 39,
     "metadata": {},
     "output_type": "execute_result"
    }
   ],
   "source": [
    "data1.columns.values\n"
   ]
  },
  {
   "cell_type": "code",
   "execution_count": null,
   "metadata": {
    "collapsed": true
   },
   "outputs": [],

   "source": [
    "# delete times\n",
    "data1 = dat1.head(203350)\n",
    "dat1.shape"
   ]

  }
 ],
 "metadata": {
  "kernelspec": {
   "display_name": "Python 3",
   "language": "python",
   "name": "python3"
  },
  "language_info": {
   "codemirror_mode": {
    "name": "ipython",
    "version": 3
   },
   "file_extension": ".py",
   "mimetype": "text/x-python",
   "name": "python",
   "nbconvert_exporter": "python",
   "pygments_lexer": "ipython3",
   "version": "3.4.3"
  }
 },
 "nbformat": 4,
 "nbformat_minor": 0
}
