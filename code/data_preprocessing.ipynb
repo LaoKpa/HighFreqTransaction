{
 "cells": [
  {
   "cell_type": "code",
   "execution_count": 3,
   "metadata": {
    "collapsed": true
   },
   "outputs": [],
   "source": [
    "import numpy as np\n",
    "import pandas as pd"
   ]
  },
  {
   "cell_type": "code",
   "execution_count": 22,
   "metadata": {
    "collapsed": false
   },
   "outputs": [],
   "source": [
    "data1 = pd.read_csv(\"../data/AAPL_05222012_0930_1300_LOB_2.csv\")"
   ]
  },
  {
   "cell_type": "code",
   "execution_count": 23,
   "metadata": {
    "collapsed": false
   },
   "outputs": [],
   "source": [
    "# column name\n",
    "col1 = list(data1.columns.values)[2:62]\n",
    "len(col1)\n",
    "col2 = [i[16:] for i in col1]\n",
    "new_names = list(data1.columns.values)[0:2]+ [i[:-19] for i in col2]\n",
    "data1.columns = new_names\n",
    "\n",
    "# delete times\n",
    "data1 = data1.head(203350)"
   ]
  },
  {
   "cell_type": "code",
   "execution_count": 75,
   "metadata": {
    "collapsed": false
   },
   "outputs": [],
   "source": [
    "# feature 2\n",
    "level = np.arange(10)+1\n",
    "bid_P = \"BID_PRICE\"\n",
    "ask_P = \"ASK_PRICE\"\n",
    "ask_V = \"BID_SIZE\"\n",
    "bid_V = \"ASK_SIZE\"\n",
    "\n",
    "def feature2_1(dataset):\n",
    "    ret = pd.DataFrame()\n",
    "    for i in level:\n",
    "        ret[\"diff_ab\" + str(i)] = data1[bid_P + str(i)] - data1[ask_P + str(i)]\n",
    "    return ret\n",
    "\n",
    "def feature2_2(dataset):\n",
    "    ret = pd.DataFrame()\n",
    "    for i in level:\n",
    "        ret[\"mid_ab\" + str(i)] = (data1[bid_P + str(i)]+data1[ask_P + str(i)])/2\n",
    "    return ret\n",
    "\n",
    "temp = feature2_2(data1)\n",
    "#type(feature2_1(data1)[1][1])"
   ]
  },
  {
   "cell_type": "code",
   "execution_count": 101,
   "metadata": {
    "collapsed": false
   },
   "outputs": [
    {
     "data": {
      "text/plain": [
       "(13499, 13093)"
      ]
     },
     "execution_count": 101,
     "metadata": {},
     "output_type": "execute_result"
    }
   ],
   "source": [
    "# labels\n",
    "# Mid-price\n",
    "def label_midprice(dataset,step):\n",
    "    tmp =  dataset[\"mid_ab1\"].diff(periods = step)\n",
    "    Y_midprice = pd.Series(\"stationary\", index= range(dataset.shape[0]))\n",
    "    Y_midprice[tmp>0] = \"upward\"\n",
    "    Y_midprice[tmp<0] = \"downward\"\n",
    "    return Y_midprice\n",
    "    \n",
    "#label_midprice(temp,step)\n",
    "\n",
    "#Bid-ask spread crossing\n",
    "def label_spread(dataset, step):\n",
    "    bid_t2 = pd.Series(0, index= range(dataset.shape[0]))\n",
    "    bid_t2[0:-step] = dataset[\"BID_PRICE1\"][step:]\n",
    "    indc1 = bid_t2 - dataset[\"ASK_PRICE1\"]\n",
    "    \n",
    "    ask_t2 = pd.Series(0, index= range(dataset.shape[0]))\n",
    "    ask_t2[0:-step] = dataset[\"ASK_PRICE1\"][step:]\n",
    "    indc2 = ask_t2 - dataset[\"BID_PRICE1\"]\n",
    "    Y_spread = pd.Series(\"stationary\", index= range(dataset.shape[0]))\n",
    "    Y_spread[indc1>0] = \"upward\"\n",
    "    Y_spread[indc2<0] = \"downward\"\n",
    "    Y_spread[-step:] = \"NA\"\n",
    "    return sum(Y_spread==\"downward\"),sum(Y_spread==\"upward\")\n",
    "\n",
    "#label_spread(data1,100 ) #1s\n",
    "# question here"
   ]
  }
 ],
 "metadata": {
  "kernelspec": {
   "display_name": "Python 3",
   "language": "python",
   "name": "python3"
  },
  "language_info": {
   "codemirror_mode": {
    "name": "ipython",
    "version": 3
   },
   "file_extension": ".py",
   "mimetype": "text/x-python",
   "name": "python",
   "nbconvert_exporter": "python",
   "pygments_lexer": "ipython3",
   "version": "3.4.3"
  }
 },
 "nbformat": 4,
 "nbformat_minor": 0
}
