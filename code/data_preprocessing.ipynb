{
 "cells": [
  {
   "cell_type": "code",
   "execution_count": 32,
   "metadata": {
    "collapsed": true
   },
   "outputs": [],
   "source": [
    "import numpy as np\n",
    "import pandas as pd\n",
    "import random"
   ]
  },
  {
   "cell_type": "code",
   "execution_count": 5,
   "metadata": {
    "collapsed": false
   },
   "outputs": [],
   "source": [
    "data1 = pd.read_csv(\"../data/AAPL_05222012_0930_1300_LOB_2.csv\")"
   ]
  },
  {
   "cell_type": "code",
   "execution_count": 6,
   "metadata": {
    "collapsed": false
   },
   "outputs": [],
   "source": [
    "# column name\n",
    "col1 = list(data1.columns.values)[2:62]\n",
    "len(col1)\n",
    "col2 = [i[16:] for i in col1]\n",
    "new_names = list(data1.columns.values)[0:2]+ [i[:-19] for i in col2]\n",
    "data1.columns = new_names\n",
    "\n",
    "# delete times\n",
    "data1 = data1.head(203350)"
   ]
  },
  {
   "cell_type": "code",
   "execution_count": 7,
   "metadata": {
    "collapsed": false
   },
   "outputs": [],
   "source": [
    "# feature 2\n",
    "level = np.arange(10)+1\n",
    "bid_P = \"BID_PRICE\"\n",
    "ask_P = \"ASK_PRICE\"\n",
    "ask_V = \"BID_SIZE\"\n",
    "bid_V = \"ASK_SIZE\"\n",
    "\n",
    "def feature2_1(dataset):\n",
    "    ret = pd.DataFrame()\n",
    "    for i in level:\n",
    "        ret[\"diff_ab\" + str(i)] = data1[bid_P + str(i)] - data1[ask_P + str(i)]\n",
    "    return ret\n",
    "\n",
    "def feature2_2(dataset):\n",
    "    ret = pd.DataFrame()\n",
    "    for i in level:\n",
    "        ret[\"mid_ab\" + str(i)] = (data1[bid_P + str(i)]+data1[ask_P + str(i)])/2\n",
    "    return ret\n",
    "\n",
    "temp = feature2_2(data1)\n",
    "#type(feature2_1(data1)[1][1])"
   ]
  },
  {
   "cell_type": "code",
   "execution_count": 53,
   "metadata": {
    "collapsed": false
   },
   "outputs": [],
   "source": [
    "# labels\n",
    "# Mid-price\n",
    "def label_midprice(dataset,step):\n",
    "    tmp =  dataset[\"mid_ab1\"].diff(periods = step)\n",
    "    Y_midprice = pd.Series(np.nan, index= range(dataset.shape[0]),name=\"Y_midprice\")\n",
    "    Y_midprice[tmp>0] = \"upward\"\n",
    "    Y_midprice[tmp<0] = \"downward\"\n",
    "    Y_midprice[tmp==0] = \"stationary\"\n",
    "    Y_midprice[0:-step] =  Y_midprice[step:]\n",
    "    Y_midprice[-step:] = np.nan\n",
    "    return Y_midprice\n",
    "  \n",
    "# sum(Y_midprice==\"downward\"),sum(Y_midprice==\"upward\")\n",
    "#label_midprice(temp,step)\n",
    "\n",
    "#Bid-ask spread crossing\n",
    "def label_spread(dataset, step):\n",
    "    bid_t2 = pd.Series(0, index= range(dataset.shape[0]))\n",
    "    bid_t2[0:-step] = dataset[\"BID_PRICE1\"][step:]\n",
    "    indc1 = bid_t2 - dataset[\"ASK_PRICE1\"]\n",
    "    \n",
    "    ask_t2 = pd.Series(0, index= range(dataset.shape[0]))\n",
    "    ask_t2[0:-step] = dataset[\"ASK_PRICE1\"][step:]\n",
    "    indc2 = ask_t2 - dataset[\"BID_PRICE1\"]\n",
    "    Y_spread = pd.Series(\"stationary\", index= range(dataset.shape[0]))\n",
    "    Y_spread[indc1>0] = \"upward\"\n",
    "    Y_spread[indc2<0] = \"downward\"\n",
    "    Y_spread[-step:] = np.nan\n",
    "    return Y_spread\n",
    "\n",
    "# sum(Y_spread==\"downward\"),sum(Y_spread==\"upward\")\n",
    "# label_spread(data1,100 ) #1s\n",
    "# question here"
   ]
  },
  {
   "cell_type": "code",
   "execution_count": 49,
   "metadata": {
    "collapsed": true
   },
   "outputs": [],
   "source": [
    "# merge dataset\n",
    "def merge_dataset(dataset_ls):\n",
    "    n = len(dataset_ls)\n",
    "    ret = pd.DataFrame(index = range(data1.shape[0]))\n",
    "    for i in dataset_ls:\n",
    "        ret = pd.concat([ret,i],axis = 1)\n",
    "    return ret"
   ]
  },
  {
   "cell_type": "code",
   "execution_count": 56,
   "metadata": {
    "collapsed": false
   },
   "outputs": [],
   "source": [
    "# randomly select given ratio\n",
    "def random_subset(dataset,label,ratio,size):\n",
    "    n_u,n_d,n_s = int(ratio[0]/sum(ratio)*size),int(ratio[1]/sum(ratio)*size),int(ratio[2]/sum(ratio)*size )\n",
    "    ind_u = list(dataset[dataset[label]==\"upward\"].index)\n",
    "    ind_d = list(dataset[dataset[label]==\"downward\"].index)\n",
    "    ind_s = list(dataset[dataset[label]==\"stationary\"].index)\n",
    "    indice = np.array([])\n",
    "    indice = np.append(indice,np.random.choice(ind_u,replace=False,size = n_u))\n",
    "    indice = np.append(indice,np.random.choice(ind_d,replace=False,size = n_d))\n",
    "    indice = np.append(indice,np.random.choice(ind_s,replace=False,size = n_s))  \n",
    "    ret = dataset.loc[np.sort(indice).astype(int),:]\n",
    "    return ret\n"
   ]
  },
  {
   "cell_type": "code",
   "execution_count": 59,
   "metadata": {
    "collapsed": false
   },
   "outputs": [
    {
     "data": {
      "text/plain": [
       "(1000, 11)"
      ]
     },
     "execution_count": 59,
     "metadata": {},
     "output_type": "execute_result"
    }
   ],
   "source": [
    "random_subset(hh,\"Y_midprice\",(1,1,2),1000).shape\n",
    "a = [temp,label_midprice(temp,5)]\n",
    "hh = merge_dataset(a)"
   ]
  }
 ],
 "metadata": {
  "kernelspec": {
   "display_name": "Python 3",
   "language": "python",
   "name": "python3"
  },
  "language_info": {
   "codemirror_mode": {
    "name": "ipython",
    "version": 3
   },
   "file_extension": ".py",
   "mimetype": "text/x-python",
   "name": "python",
   "nbconvert_exporter": "python",
   "pygments_lexer": "ipython3",
   "version": "3.4.3"
  }
 },
 "nbformat": 4,
 "nbformat_minor": 0
}
